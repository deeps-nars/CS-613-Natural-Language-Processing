{
 "cells": [
  {
   "cell_type": "markdown",
   "metadata": {},
   "source": [
    "# Assignment 2 of S Deepak Narayanan, 16110142"
   ]
  },
  {
   "cell_type": "markdown",
   "metadata": {},
   "source": [
    "## Question 2. follows below \n",
    "### Question 1. is just to download the dataset, which has already been done"
   ]
  },
  {
   "cell_type": "markdown",
   "metadata": {},
   "source": [
    "### Tokenization using Tokenizer"
   ]
  },
  {
   "cell_type": "code",
   "execution_count": 18,
   "metadata": {},
   "outputs": [],
   "source": [
    "## Not used in this assignment\n",
    "from nltk.tokenize import sent_tokenize\n",
    "file = open('alice.txt').read()\n",
    "data_temp = sent_tokenize(file)"
   ]
  },
  {
   "cell_type": "markdown",
   "metadata": {},
   "source": [
    "### Additional Dataset cleaning "
   ]
  },
  {
   "cell_type": "code",
   "execution_count": 19,
   "metadata": {},
   "outputs": [],
   "source": [
    "#data_temp = data\n",
    "for dt in range(len(data_temp)):\n",
    "    data_temp[dt] = data_temp[dt].replace('\\n', \"\")\n",
    "    data_temp[dt] = data_temp[dt].replace('\\n', \"\")\n",
    "    data_temp[dt] = data_temp[dt].replace('\\ ',\" \")\n",
    "    data_temp[dt] = data_temp[dt].replace('\"',' ' )\n",
    "    data_temp[dt] = data_temp[dt].replace(\"  \",\" \")\n",
    "data_final = []\n",
    "for data in data_temp:\n",
    "    data = '<s> '+data\n",
    "    data = data + ' </s>'\n",
    "    data_final.append(data)\n",
    "data_final = data_temp\n",
    "# Final Data is Data Final itself\n",
    "del data_temp"
   ]
  },
  {
   "cell_type": "markdown",
   "metadata": {},
   "source": [
    "### Splitting the data into 80:20"
   ]
  },
  {
   "cell_type": "code",
   "execution_count": 20,
   "metadata": {},
   "outputs": [],
   "source": [
    "from sklearn.model_selection import train_test_split\n",
    "train_data, test_data = train_test_split(data_final, test_size = 0.2, random_state= 10)"
   ]
  },
  {
   "cell_type": "markdown",
   "metadata": {},
   "source": [
    "## Question 3. follows below"
   ]
  },
  {
   "cell_type": "markdown",
   "metadata": {},
   "source": [
    "### Unigram Model and MLE for Unigram"
   ]
  },
  {
   "cell_type": "code",
   "execution_count": 21,
   "metadata": {},
   "outputs": [],
   "source": [
    "unigram_count = {}\n",
    "for data in data_final:\n",
    "    arr = data.split()\n",
    "    for elem in arr:\n",
    "        if elem in unigram_count:\n",
    "            unigram_count[elem]+=1\n",
    "        else:\n",
    "            unigram_count[elem]=1\n",
    "## Unigram Count is a dictionary that contains all the Unigrams with their number of occurrences in the corpus.\n",
    "total_count = sum(unigram_count.values())\n",
    "mle_unigram = {}\n",
    "for elem in unigram_count:\n",
    "    mle_unigram[elem] = unigram_count[elem]/total_count"
   ]
  },
  {
   "cell_type": "markdown",
   "metadata": {},
   "source": [
    "### Bigram Model and MLE for Bigram"
   ]
  },
  {
   "cell_type": "code",
   "execution_count": 22,
   "metadata": {},
   "outputs": [],
   "source": [
    "# Bigram Count contains all the bigrams with their number of occurrences in the corpus. \n",
    "bigram_count = {}\n",
    "for data in data_final:\n",
    "    tmp_arr = data.split()\n",
    "    for i in range(len(tmp_arr)):\n",
    "        try:\n",
    "            if (tmp_arr[i],tmp_arr[i+1]) in bigram_count:\n",
    "                bigram_count[(tmp_arr[i],tmp_arr[i+1])]+=1\n",
    "            if (tmp_arr[i], tmp_arr[i+1]) not in bigram_count:\n",
    "                 bigram_count[(tmp_arr[i],tmp_arr[i+1])]=1\n",
    "        except:\n",
    "            continue\n",
    "mle_bigram = {}\n",
    "for i in bigram_count:\n",
    "    mle_bigram[i] = bigram_count[i]/unigram_count[i[0]]"
   ]
  },
  {
   "cell_type": "markdown",
   "metadata": {},
   "source": [
    "### Trigram Count and MLE for Trigrams"
   ]
  },
  {
   "cell_type": "code",
   "execution_count": 23,
   "metadata": {},
   "outputs": [],
   "source": [
    "trigram_count = {}\n",
    "for data in data_final:\n",
    "    tmp_arr = data.split()\n",
    "    for i in range(len(tmp_arr)):\n",
    "        try:\n",
    "            if (tmp_arr[i],tmp_arr[i+1],tmp_arr[i+2]) in trigram_count:\n",
    "                trigram_count[(tmp_arr[i],tmp_arr[i+1],tmp_arr[i+2])]+=1\n",
    "            if (tmp_arr[i], tmp_arr[i+1],tmp_arr[i+2]) not in trigram_count:\n",
    "                 trigram_count[(tmp_arr[i],tmp_arr[i+1],tmp_arr[i+2])]=1\n",
    "        except:\n",
    "            continue\n",
    "mle_trigram = {}\n",
    "for i in trigram_count:\n",
    "    mle_trigram[i] = trigram_count[i]/bigram_count[(i[0],i[1])]"
   ]
  },
  {
   "cell_type": "markdown",
   "metadata": {},
   "source": [
    "### Quadgram Count and MLE for Quadgram"
   ]
  },
  {
   "cell_type": "code",
   "execution_count": 24,
   "metadata": {},
   "outputs": [],
   "source": [
    "quadgram_count = {}\n",
    "for data in data_final:\n",
    "    tmp_arr = data.split()\n",
    "    for i in range(len(tmp_arr)):\n",
    "        try:\n",
    "            if (tmp_arr[i],tmp_arr[i+1],tmp_arr[i+2], tmp_arr[i+3]) in quadgram_count:\n",
    "                quadgram_count[(tmp_arr[i],tmp_arr[i+1],tmp_arr[i+2], tmp_arr[i+3])]+=1\n",
    "            if (tmp_arr[i], tmp_arr[i+1],tmp_arr[i+2], tmp_arr[i+3]) not in quadgram_count:\n",
    "                 quadgram_count[(tmp_arr[i],tmp_arr[i+1],tmp_arr[i+2], tmp_arr[i+3])]=1\n",
    "        except:\n",
    "            continue\n",
    "mle_quadgram = {}\n",
    "for i in quadgram_count:\n",
    "    mle_quadgram[i] = quadgram_count[i]/trigram_count[(i[0],i[1], i[2])]"
   ]
  },
  {
   "cell_type": "markdown",
   "metadata": {},
   "source": [
    "### The below unic, bigc, tric, quadc, contains the number of unigrams, bigrams, trigrams and quadgrams in the corpus. Using the entire corpus in this case. The number of possible ones is also covered in here."
   ]
  },
  {
   "cell_type": "code",
   "execution_count": 25,
   "metadata": {},
   "outputs": [
    {
     "name": "stdout",
     "output_type": "stream",
     "text": [
      "The total number of n-grams possible and those present are respectively\n",
      "1-gram 6277,6277\n",
      "2-gram 39400729,16646\n",
      "3-gram 247318375933,21014\n",
      "4-gram 1552417445731441,21314\n"
     ]
    }
   ],
   "source": [
    "unic = len(unigram_count)\n",
    "bigc = len(bigram_count)\n",
    "tric = len(trigram_count)\n",
    "quadc = len(quadgram_count)\n",
    "\n",
    "possible= {i:0 for i in range(1,5)}\n",
    "possible[1] = unic\n",
    "possible[2] = unic**2\n",
    "possible[3] = unic**3\n",
    "possible[4] = unic**4\n",
    "\n",
    "present = {1:unic, 2:bigc, 3:tric, 4:quadc}\n",
    "print(\"The total number of n-grams possible and those present are respectively\")\n",
    "for i in present:\n",
    "    print(str(i) + '-gram '+str(possible[i])+','+str(present[i]))"
   ]
  },
  {
   "cell_type": "markdown",
   "metadata": {},
   "source": [
    "## Q4. (b) Sentence Probabilities\n",
    "### I am randomly taking 10 sentences from the corpus and displaying their probability using the unigram, bigram, trigram and the quadgram models"
   ]
  },
  {
   "cell_type": "code",
   "execution_count": 26,
   "metadata": {},
   "outputs": [],
   "source": [
    "from math import log\n",
    "\n",
    "def prob_sent(sentence, ngram):\n",
    "    \n",
    "    # Probability of Formation of a sentence using a Unigram\n",
    "    if ngram==1:\n",
    "        flag = 1\n",
    "        array = sentence.split()\n",
    "        product = 0\n",
    "        for i in array:\n",
    "            try:\n",
    "                product+=mle_unigram[i]\n",
    "            except:\n",
    "                flag = 0\n",
    "                break\n",
    "        if(flag==0):\n",
    "            return 100\n",
    "        return product\n",
    "        \n",
    "            \n",
    "        '''\n",
    "        prob_unigram_sent = {}\n",
    "        for sentence in data_final:\n",
    "            array = sentence.split()\n",
    "            product = 1\n",
    "            for i in array:\n",
    "                product*=mle_unigram[i]\n",
    "            prob_unigram_sent[sentence] = product\n",
    "        '''\n",
    "        \n",
    "    # Probability of formation of a sentence using a bigram\n",
    "    if ngram==2:\n",
    "        flag = 1\n",
    "        array = sentence.split()\n",
    "        product = 0\n",
    "        for i in range(len(array)-1):\n",
    "            try:\n",
    "                product+=mle_bigram[(array[i],array[i+1])]\n",
    "            except:\n",
    "                flag = 0\n",
    "                break\n",
    "        if(flag==0):\n",
    "            return 100\n",
    "        return product\n",
    "    '''\n",
    "        prob_bigram_sent  = {}\n",
    "        for sentence in data_final:\n",
    "            array = sentence.split()\n",
    "            product = 1\n",
    "            for i in range(len(array)):\n",
    "                try:\n",
    "                    product*=mle_bigram[(array[i],array[i+1])]\n",
    "                except:\n",
    "                    continue\n",
    "            prob_bigram_sent[sentence] = product\n",
    "    '''\n",
    "    # Probability of sentence formation using trigrams\n",
    "    if ngram==3:\n",
    "        flag = 1\n",
    "        array = sentence.split()\n",
    "        product = 1\n",
    "        for i in range(len(array)-2):\n",
    "            try:\n",
    "                product+=log(mle_trigram[(array[i],array[i+1], array[i+2])])\n",
    "            except:\n",
    "                flag = 0\n",
    "                break\n",
    "        if(flag==0):\n",
    "            return 100\n",
    "        return product\n",
    "    '''\n",
    "    prob_trigram_sent  = {}\n",
    "    for sentence in data_final:\n",
    "        array = sentence.split()\n",
    "        product = 1\n",
    "        for i in range(len(array)):\n",
    "            try:\n",
    "                product*=mle_trigram[(array[i],array[i+1], array[i+2])]\n",
    "            except:\n",
    "                continue\n",
    "        prob_trigram_sent[sentence] = log(product)\n",
    "    '''\n",
    "    #Probability of a sentence using quadgram \n",
    "    if ngram==4:\n",
    "        flag = 1\n",
    "        array = sentence.split()\n",
    "        product = 0\n",
    "        for i in range(len(array)-3):\n",
    "            try:\n",
    "                product+=log(mle_quadgram[(array[i],array[i+1], array[i+2], array[i+3])])\n",
    "            except:\n",
    "                flag = 0\n",
    "                break\n",
    "        if(flag==0):\n",
    "            return 100\n",
    "        return product\n",
    "    '''\n",
    "    prob_quadgram_sent = {}\n",
    "    for sentence in data_final:\n",
    "        array = sentence.split()\n",
    "        product = 1\n",
    "        for i in range(len(array)):\n",
    "            try:\n",
    "                product*=mle_quadgram[(array[i],array[i+1], array[i+2], array[i+3])]\n",
    "            except:\n",
    "                continue\n",
    "        prob_quadgram_sent[sentence] = product\n",
    "    '''"
   ]
  },
  {
   "cell_type": "markdown",
   "metadata": {},
   "source": [
    "### The results are below: If 100, then the probability is 0, else the values are those computed from log probabilities"
   ]
  },
  {
   "cell_type": "code",
   "execution_count": 27,
   "metadata": {
    "scrolled": true
   },
   "outputs": [
    {
     "name": "stdout",
     "output_type": "stream",
     "text": [
      "The sentence chosen is \n",
      " ‘Their heads are gone, if it please your Majesty!’ the soldiers shoutedin reply.\n",
      "The Probability using 1 gram model is  0.07467901836502518\n",
      "The Probability using 2 gram model is  4.377369608762241\n",
      "The Probability using 3 gram model is  -4.12396397940326\n",
      "The Probability using 4 gram model is  -1.3862943611198906\n",
      "\n",
      "The sentence chosen is \n",
      " ‘Fetch me my gloves this moment!’Then came a little pattering of feet on the stairs.\n",
      "The Probability using 1 gram model is  0.11254672517471151\n",
      "The Probability using 2 gram model is  3.735406986988175\n",
      "The Probability using 3 gram model is  -6.414874040816802\n",
      "The Probability using 4 gram model is  -1.791759469228055\n",
      "\n",
      "The sentence chosen is \n",
      " The Lobster QuadrilleThe Mock Turtle sighed deeply, and drew the back of one flapper acrosshis eyes.\n",
      "The Probability using 1 gram model is  0.10832114415732164\n",
      "The Probability using 2 gram model is  5.8081405408229125\n",
      "The Probability using 3 gram model is  -2.4011973816621555\n",
      "The Probability using 4 gram model is  -0.6931471805599453\n",
      "\n",
      "The sentence chosen is \n",
      " Her first idea was that shehad somehow fallen into the sea, ‘and in that case I can go back byrailway,’ she said to herself.\n",
      "The Probability using 1 gram model is  0.17223305704534378\n",
      "The Probability using 2 gram model is  5.110736441600368\n",
      "The Probability using 3 gram model is  -12.072944535658555\n",
      "The Probability using 4 gram model is  -1.6094379124341003\n",
      "\n",
      "The sentence chosen is \n",
      " Alice crouched down among the trees as well asshe could, for her neck kept getting entangled among the branches, andevery now and then she had to stop and untwist it.\n",
      "The Probability using 1 gram model is  0.24841540711847876\n",
      "The Probability using 2 gram model is  8.167335288764459\n",
      "The Probability using 3 gram model is  -21.61627887987963\n",
      "The Probability using 4 gram model is  -0.6931471805599453\n",
      "\n",
      "The sentence chosen is \n",
      " See how eagerly the lobsters and the turtles all advance!\n",
      "The Probability using 1 gram model is  0.1419226393629124\n",
      "The Probability using 2 gram model is  3.13629490316384\n",
      "The Probability using 3 gram model is  -3.0943445622221004\n",
      "The Probability using 4 gram model is  0.0\n",
      "\n",
      "The sentence chosen is \n",
      " ‘That’s right!’ shouted the Queen.\n",
      "The Probability using 1 gram model is  0.05590768730700471\n",
      "The Probability using 2 gram model is  1.7157682775712515\n",
      "The Probability using 3 gram model is  0.083709268125845\n",
      "The Probability using 4 gram model is  0.0\n",
      "\n",
      "The sentence chosen is \n",
      " ‘Thinking again?’ the Duchess asked, with another dig of her sharplittle chin.\n",
      "The Probability using 1 gram model is  0.08678693320331544\n",
      "The Probability using 2 gram model is  4.685554147184243\n",
      "The Probability using 3 gram model is  -4.529429087511424\n",
      "The Probability using 4 gram model is  0.0\n",
      "\n",
      "The sentence chosen is \n",
      " Alice sighed wearily.\n",
      "The Probability using 1 gram model is  0.00804485616772306\n",
      "The Probability using 2 gram model is  0.20520833333333335\n",
      "The Probability using 3 gram model is  1.0\n",
      "The Probability using 4 gram model is  0\n",
      "\n",
      "The sentence chosen is \n",
      " Comehere directly, and get ready for your walk!” “Coming in a minute,nurse!\n",
      "The Probability using 1 gram model is  0.06854379977246872\n",
      "The Probability using 2 gram model is  4.52095833560361\n",
      "The Probability using 3 gram model is  -5.222576268071368\n",
      "The Probability using 4 gram model is  -0.6931471805599453\n",
      "\n"
     ]
    }
   ],
   "source": [
    "import random\n",
    "sentence_list_test = []\n",
    "for i in range(10):\n",
    "    sentence_list_test.append(random.choice(data_final))\n",
    "for i in range(10):\n",
    "    print('The sentence chosen is \\n',sentence_list_test[i])\n",
    "    for j in range(4):\n",
    "         print('The Probability using '+str(j+1)+' gram model is ', prob_sent(sentence_list_test[i],j+1))\n",
    "    print()"
   ]
  },
  {
   "cell_type": "markdown",
   "metadata": {},
   "source": [
    "## Q4. (a) Generating Sentences by using MLEs for the N-Gram Model"
   ]
  },
  {
   "cell_type": "code",
   "execution_count": 37,
   "metadata": {},
   "outputs": [],
   "source": [
    "# I have to do something"
   ]
  },
  {
   "cell_type": "markdown",
   "metadata": {},
   "source": [
    "## Q5., Q6. and Q7. follow below"
   ]
  },
  {
   "cell_type": "markdown",
   "metadata": {},
   "source": [
    "##  Add One Smoothing and Good Turing Smoothing"
   ]
  },
  {
   "cell_type": "markdown",
   "metadata": {},
   "source": [
    "### Below cell finds all the possible bigrams and puts all of them in the bigram_total dictionary"
   ]
  },
  {
   "cell_type": "code",
   "execution_count": 28,
   "metadata": {},
   "outputs": [],
   "source": [
    "bigram_total = {}\n",
    "for i in unigram_count:\n",
    "    for j in unigram_count:\n",
    "        bigram_total[(i,j)] = 0\n",
    "## Created above all the possible bigrams"
   ]
  },
  {
   "cell_type": "markdown",
   "metadata": {},
   "source": [
    "### The cell below is used for performing Add-One Smoothing"
   ]
  },
  {
   "cell_type": "code",
   "execution_count": 29,
   "metadata": {},
   "outputs": [],
   "source": [
    "add_one = {}\n",
    "for data in bigram_total:\n",
    "    if data not in bigram_count:\n",
    "        add_one[data] = (1)/( unigram_count[data[0]]+ len(unigram_count))\n",
    "    else:\n",
    "        add_one[data] = (bigram_count[data]+1)/((unigram_count[data[0]]) + len(unigram_count))"
   ]
  },
  {
   "cell_type": "markdown",
   "metadata": {},
   "source": [
    "### Drasatic Changes in Probabilties\n"
   ]
  },
  {
   "cell_type": "code",
   "execution_count": 30,
   "metadata": {},
   "outputs": [
    {
     "name": "stdout",
     "output_type": "stream",
     "text": [
      "1.0 0.00031857279388340236\n",
      "0.5 0.00031852205765249244\n",
      "0.016666666666666666 0.00031560675398453525\n"
     ]
    }
   ],
   "source": [
    "## The drastic changes after Add One Smoothing are\n",
    "## Example 1\n",
    "print(mle_bigram[('pink', 'eyes')], add_one[('pink', 'eyes')])\n",
    "\n",
    "## Example 2\n",
    "print(mle_bigram[('book,’', 'thought')], add_one[('book,’', 'thought')])\n",
    "\n",
    "## Example 3\n",
    "print(mle_bigram[('or', 'conversations')], add_one[('or', 'conversations')])\n"
   ]
  },
  {
   "cell_type": "markdown",
   "metadata": {},
   "source": [
    "#### The above change in MLEs is due to the fact that Add-One has taking too much mass from something that occurs and has assigned it to something that has never occurred. "
   ]
  },
  {
   "cell_type": "markdown",
   "metadata": {},
   "source": [
    "### Perplexity for Add_One Smoothing on test data\n"
   ]
  },
  {
   "cell_type": "code",
   "execution_count": 31,
   "metadata": {},
   "outputs": [
    {
     "name": "stdout",
     "output_type": "stream",
     "text": [
      " The perplexity of Add One Smoothing is  1427.1236631270838\n"
     ]
    }
   ],
   "source": [
    "import math\n",
    "def add_one_perplexity(data):\n",
    "    prob = 0\n",
    "    count = 0\n",
    "    for i in data:\n",
    "        arr = i.split()\n",
    "        for j in range(len(arr)):\n",
    "            count+=1\n",
    "            #print(math.log(add_one[(arr[j],arr[j+1])]))\n",
    "            try:\n",
    "               \n",
    "                prob+=math.log(add_one[(arr[j],arr[j+1])])\n",
    "                #print('b')\n",
    "            except:\n",
    "                continue\n",
    "    return math.exp(-1/(count)*prob)\n",
    "print(' The perplexity of Add One Smoothing is ',add_one_perplexity(test_data))\n",
    "del add_one"
   ]
  },
  {
   "cell_type": "markdown",
   "metadata": {},
   "source": [
    "### Good Turing Count and discounting value"
   ]
  },
  {
   "cell_type": "code",
   "execution_count": 32,
   "metadata": {},
   "outputs": [],
   "source": [
    "## Computed the count of the number of bigrams with a particular count\n",
    "good_turing = {}\n",
    "for i in bigram_count:\n",
    "    if bigram_count[i] in good_turing:\n",
    "        good_turing[bigram_count[i]]+=1\n",
    "    else:\n",
    "        good_turing[bigram_count[i]]=1"
   ]
  },
  {
   "cell_type": "markdown",
   "metadata": {},
   "source": [
    "### 1. The below plot is almost a straight line for value <5. The discounting is ~0.6 for c<7.  \n",
    "Note that 0 has a very high count because of the fact that number of times a word occurs is the maximum. I have not taken till 10 because of missing N-c values. "
   ]
  },
  {
   "cell_type": "code",
   "execution_count": 33,
   "metadata": {
    "scrolled": true
   },
   "outputs": [
    {
     "name": "stdout",
     "output_type": "stream",
     "text": [
      " The discounting values are:  {0: 0.8591253153910849, 1: 0.1792881616670163, 2: 1.0109204368174727, 3: 1.6851851851851851, 4: 3.434065934065934, 5: 3.504, 6: 5.36986301369863, 7: 5.0, 8: 7.457142857142857}\n"
     ]
    },
    {
     "data": {
      "image/png": "[encoded data removed]",
      "text/plain": [
       "<Figure size 432x288 with 1 Axes>"
      ]
     },
     "metadata": {
      "needs_background": "light"
     },
     "output_type": "display_data"
    }
   ],
   "source": [
    "after_count = {}\n",
    "after_count[0] = good_turing[1]/(sum(good_turing.values()))\n",
    "for i in range(1,9):\n",
    "    after_count[i] = (good_turing[i+1]*(i+1))/(good_turing[i])\n",
    "import matplotlib.pyplot as plt\n",
    "plt.xlabel('c value used for c+1 estimation')\n",
    "plt.ylabel(' The discounting value obtained')\n",
    "plt.scatter(after_count.keys(),after_count.values())\n",
    "print(' The discounting values are: ', after_count)"
   ]
  },
  {
   "cell_type": "markdown",
   "metadata": {},
   "source": [
    "### If there is a missing N(c+1) or N(c), then I am using the bigram mle here. \n",
    "### Below is the computation of probabilities using Good Turing Smoothing on the dataset"
   ]
  },
  {
   "cell_type": "code",
   "execution_count": 35,
   "metadata": {},
   "outputs": [],
   "source": [
    "gt = {}\n",
    "sum_ = len(bigram_count)\n",
    "for data in bigram_total:\n",
    "    if data not in bigram_count:\n",
    "        gt[data] = good_turing[1]/(sum(good_turing.values()))\n",
    "    else:\n",
    "        try:\n",
    "            gt[data] = (good_turing[bigram_count[data]]*bigram_count[data])/(good_turing[bigram_count[data]-1]*sum_)\n",
    "        except:\n",
    "            gt[data] = mle_bigram[data]"
   ]
  },
  {
   "cell_type": "markdown",
   "metadata": {},
   "source": [
    "### Perplexity for Good Turing on test data"
   ]
  },
  {
   "cell_type": "code",
   "execution_count": 36,
   "metadata": {
    "scrolled": true
   },
   "outputs": [
    {
     "name": "stdout",
     "output_type": "stream",
     "text": [
      "95.44184960056846\n"
     ]
    }
   ],
   "source": [
    "def good_turing_perplexity(data):\n",
    "    prob = 0\n",
    "    count = 0\n",
    "    for i in data:\n",
    "        arr = i.split()\n",
    "        for j in range(len(arr)):\n",
    "            count+=1\n",
    "            #print(math.log(add_one[(arr[j],arr[j+1])]))\n",
    "            try:\n",
    "                prob+=math.log(gt[(arr[j],arr[j+1])])\n",
    "                #print('b')\n",
    "            except:\n",
    "                continue\n",
    "    return math.exp(-1/(count)*prob)\n",
    "print (good_turing_perplexity(test_data))\n",
    "del gt"
   ]
  },
  {
   "cell_type": "markdown",
   "metadata": {},
   "source": [
    "#### Clearly among both Add-One and Good Turing, Good Turing performs ~ 15 times better with a perplexity value of 95.44 over Add-One's Perplexity Value of 1427.123"
   ]
  },
  {
   "cell_type": "code",
   "execution_count": null,
   "metadata": {},
   "outputs": [],
   "source": []
  }
 ],
 "metadata": {
  "kernelspec": {
   "display_name": "Python 3",
   "language": "python",
   "name": "python3"
  },
  "language_info": {
   "codemirror_mode": {
    "name": "ipython",
    "version": 3
   },
   "file_extension": ".py",
   "mimetype": "text/x-python",
   "name": "python",
   "nbconvert_exporter": "python",
   "pygments_lexer": "ipython3",
   "version": "3.6.6"
  }
 },
 "nbformat": 4,
 "nbformat_minor": 2
}
